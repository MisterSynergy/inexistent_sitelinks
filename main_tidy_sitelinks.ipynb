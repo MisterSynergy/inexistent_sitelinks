{
 "cells": [
  {
   "cell_type": "code",
   "execution_count": null,
   "id": "9280bc48",
   "metadata": {},
   "outputs": [],
   "source": [
    "!pip install mysql.connector==8.0.29\n",
    "!pip install phpserialize"
   ]
  },
  {
   "cell_type": "code",
   "execution_count": 2,
   "id": "55a5bca5-3056-4e8f-a582-cb7b6e1dd635",
   "metadata": {},
   "outputs": [],
   "source": [
    "%run main_tidy_sitelinks.py"
   ]
  }
 ],
 "metadata": {
  "kernelspec": {
   "display_name": "Python 3.9.13 64-bit",
   "language": "python",
   "name": "python3"
  },
  "language_info": {
   "codemirror_mode": {
    "name": "ipython",
    "version": 3
   },
   "file_extension": ".py",
   "mimetype": "text/x-python",
   "name": "python",
   "nbconvert_exporter": "python",
   "pygments_lexer": "ipython3",
   "version": "3.9.13"
  },
  "vscode": {
   "interpreter": {
    "hash": "9b4d75ac280b6c7c3aa43866cb82dc88915409b55fec83a093dd0284cb58708e"
   }
  }
 },
 "nbformat": 4,
 "nbformat_minor": 5
}
