{
 "cells": [
  {
   "cell_type": "code",
   "execution_count": 1,
   "id": "d6f8ba7b-a92e-4d28-92b9-da8e25c83b20",
   "metadata": {},
   "outputs": [
    {
     "name": "stdout",
     "output_type": "stream",
     "text": [
      "Requirement already satisfied: mysql.connector in /srv/paws/lib/python3.10/site-packages (2.2.9)\n"
     ]
    }
   ],
   "source": [
    "!pip install mysql.connector==8.0.29"
   ]
  },
  {
   "cell_type": "code",
   "execution_count": 1,
   "id": "25258436-274a-49c2-b582-6f888ec29b74",
   "metadata": {},
   "outputs": [],
   "source": [
    "%run main_power_touch.py"
   ]
  }
 ],
 "metadata": {
  "kernelspec": {
   "display_name": "Python 3.9.13 64-bit",
   "language": "python",
   "name": "python3"
  },
  "language_info": {
   "codemirror_mode": {
    "name": "ipython",
    "version": 3
   },
   "file_extension": ".py",
   "mimetype": "text/x-python",
   "name": "python",
   "nbconvert_exporter": "python",
   "pygments_lexer": "ipython3",
   "version": "3.9.13"
  },
  "vscode": {
   "interpreter": {
    "hash": "9b4d75ac280b6c7c3aa43866cb82dc88915409b55fec83a093dd0284cb58708e"
   }
  }
 },
 "nbformat": 4,
 "nbformat_minor": 5
}
