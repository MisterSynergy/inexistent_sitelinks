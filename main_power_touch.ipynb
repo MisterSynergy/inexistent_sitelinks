{
 "cells": [
  {
   "cell_type": "code",
   "execution_count": 1,
   "id": "d6f8ba7b-a92e-4d28-92b9-da8e25c83b20",
   "metadata": {},
   "outputs": [
    {
     "name": "stdout",
     "output_type": "stream",
     "text": [
      "Requirement already satisfied: mysql.connector in /srv/paws/lib/python3.10/site-packages (2.2.9)\n"
     ]
    }
   ],
   "source": [
    "!pip install mysql.connector\n",
    "#!pip install phpserialize"
   ]
  },
  {
   "cell_type": "code",
   "execution_count": 1,
   "id": "25258436-274a-49c2-b582-6f888ec29b74",
   "metadata": {},
   "outputs": [],
   "source": [
    "from time import strftime\n",
    "from concurrent.futures import ThreadPoolExecutor, as_completed\n",
    "\n",
    "from delsitelinks.helper import query_wiki_clients\n",
    "from delsitelinks.processing import process_project"
   ]
  },
  {
   "cell_type": "code",
   "execution_count": null,
   "id": "48f7b094-c9d1-4868-98e4-049ec7ca9f29",
   "metadata": {},
   "outputs": [],
   "source": [
    "work_dbnames = [ 'viwiki' ]\n",
    "\n",
    "wiki_clients = query_wiki_clients(dump_to_file=True)\n",
    "\n",
    "with ThreadPoolExecutor() as executor:\n",
    "    results = [ executor.submit(process_project, wiki_client, job_qid_different=True, job_qid_missing=False, job_stat_file=False) for wiki_client in wiki_clients if wiki_client.dbname in work_dbnames ]\n",
    "    for future in as_completed(results):\n",
    "        success = future.result()\n",
    "        print('Project done at', strftime('%Y-%m-%d, %H:%M:%S'), dbname)"
   ]
  },
  {
   "cell_type": "code",
   "execution_count": null,
   "id": "a3e937b5-1ea7-4f02-8ce0-9880498941fa",
   "metadata": {},
   "outputs": [],
   "source": []
  }
 ],
 "metadata": {
  "kernelspec": {
   "display_name": "Python 3 (ipykernel)",
   "language": "python",
   "name": "python3"
  },
  "language_info": {
   "codemirror_mode": {
    "name": "ipython",
    "version": 3
   },
   "file_extension": ".py",
   "mimetype": "text/x-python",
   "name": "python",
   "nbconvert_exporter": "python",
   "pygments_lexer": "ipython3",
   "version": "3.10.4"
  }
 },
 "nbformat": 4,
 "nbformat_minor": 5
}
