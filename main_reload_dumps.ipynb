{
 "cells": [
  {
   "cell_type": "code",
   "execution_count": 1,
   "id": "071383be-193d-4a68-bbdb-f1e0d4e66f7e",
   "metadata": {},
   "outputs": [
    {
     "name": "stdout",
     "output_type": "stream",
     "text": [
      "Requirement already satisfied: mysql.connector in /srv/paws/lib/python3.10/site-packages (2.2.9)\n",
      "Requirement already satisfied: phpserialize in /srv/paws/lib/python3.10/site-packages (1.3)\n"
     ]
    }
   ],
   "source": [
    "!pip install mysql.connector==8.0.29\n",
    "!pip install phpserialize"
   ]
  },
  {
   "cell_type": "code",
   "execution_count": 2,
   "id": "8ffaab9e-35b0-4aca-ba01-07bb256446f7",
   "metadata": {},
   "outputs": [],
   "source": [
    "%run main_reload_dumps.py"
   ]
  }
 ],
 "metadata": {
  "kernelspec": {
   "display_name": "Python 3.9.13 64-bit",
   "language": "python",
   "name": "python3"
  },
  "language_info": {
   "codemirror_mode": {
    "name": "ipython",
    "version": 3
   },
   "file_extension": ".py",
   "mimetype": "text/x-python",
   "name": "python",
   "nbconvert_exporter": "python",
   "pygments_lexer": "ipython3",
   "version": "3.9.13"
  },
  "vscode": {
   "interpreter": {
    "hash": "9b4d75ac280b6c7c3aa43866cb82dc88915409b55fec83a093dd0284cb58708e"
   }
  }
 },
 "nbformat": 4,
 "nbformat_minor": 5
}
